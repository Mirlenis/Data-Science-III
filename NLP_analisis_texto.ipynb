# Análisis de Texto con Técnicas de NLP 📊🧠

Este notebook aplica técnicas de procesamiento de lenguaje natural (NLP) usando el dataset *Sentiment140* (tweets etiquetados por sentimiento).

## 1. Carga de librerías y datos
